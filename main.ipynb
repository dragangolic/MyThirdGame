{
 "cells": [
  {
   "cell_type": "code",
   "execution_count": 1,
   "id": "b38b4834",
   "metadata": {},
   "outputs": [
    {
     "name": "stdout",
     "output_type": "stream",
     "text": [
      "Adjective: fghj\n",
      "Verb: cghj\n",
      "Verb2: hvjm\n",
      "Famous person: vhm\n",
      " Beekeeping is so fghj! It make me so relaxed because I love to be with the bees and cghj. To spend time in the nature and hvjm like you are vhm!\n"
     ]
    }
   ],
   "source": [
    "adj = input(\"Adjective: \")\n",
    "verb1 = input(\"Verb: \")\n",
    "verb2 = input(\"Verb2: \")\n",
    "famous_person = input(\"Famous person: \")\n",
    "\n",
    "madlib = f\" Beekeeping is so {adj}! It make me so relaxed because I love to be with the bees and {verb1}. To spend time in \\\n",
    "the nature and {verb2} like you are {famous_person}!\"\n",
    "\n",
    "print(madlib)\n"
   ]
  },
  {
   "cell_type": "code",
   "execution_count": null,
   "id": "1baef930",
   "metadata": {},
   "outputs": [],
   "source": []
  }
 ],
 "metadata": {
  "kernelspec": {
   "display_name": "Python 3 (ipykernel)",
   "language": "python",
   "name": "python3"
  },
  "language_info": {
   "codemirror_mode": {
    "name": "ipython",
    "version": 3
   },
   "file_extension": ".py",
   "mimetype": "text/x-python",
   "name": "python",
   "nbconvert_exporter": "python",
   "pygments_lexer": "ipython3",
   "version": "3.9.12"
  }
 },
 "nbformat": 4,
 "nbformat_minor": 5
}
